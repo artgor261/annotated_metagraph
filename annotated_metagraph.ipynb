{
  "nbformat": 4,
  "nbformat_minor": 0,
  "metadata": {
    "colab": {
      "provenance": []
    },
    "kernelspec": {
      "name": "python3",
      "display_name": "Python 3"
    },
    "language_info": {
      "name": "python"
    }
  },
  "cells": [
    {
      "cell_type": "code",
      "execution_count": 1,
      "metadata": {
        "id": "fCJA_izL2VJn"
      },
      "outputs": [],
      "source": [
        "import networkx as nx\n",
        "import matplotlib.pyplot as plt"
      ]
    },
    {
      "cell_type": "code",
      "source": [
        "G = nx.DiGraph() # graph\n",
        "file = input('Print absolute or relative path to the file: ')\n",
        "output = input('Print output file: ')\n",
        "\n",
        "# nodes count\n",
        "NV = 0\n",
        "\n",
        "# edges count\n",
        "NE = 0\n",
        "\n",
        "with open(file, 'r') as fp:\n",
        "  content = fp.read()\n",
        "  NV = int(content[0])\n",
        "  NE = int(content[2])\n",
        "  fp.seek(7, 0)\n",
        "  edges = [tuple(map(int, s.split())) for s in fp.readlines(5 * (NE-2))]\n",
        "  G.add_edges_from(edges)"
      ],
      "metadata": {
        "colab": {
          "base_uri": "https://localhost:8080/"
        },
        "id": "YzF9fEQQ7O14",
        "outputId": "a9badcf3-2798-4e5b-d8e8-7a6b80e7a83d"
      },
      "execution_count": 3,
      "outputs": [
        {
          "name": "stdout",
          "output_type": "stream",
          "text": [
            "Print absolute or relative path to the file: input.txt\n",
            "Print output file: output.txt\n"
          ]
        }
      ]
    },
    {
      "cell_type": "code",
      "source": [
        "# filling edges attributes\n",
        "for i in range(len(G.edges)):\n",
        "  edge = list(G.edges)[i]\n",
        "  value = float(input(f'Print value of {edge} edge weight: '))\n",
        "  attr = {edge: {'weight': value}}\n",
        "  nx.set_edge_attributes(G, attr)\n",
        "\n",
        "G.edges.data()"
      ],
      "metadata": {
        "colab": {
          "base_uri": "https://localhost:8080/"
        },
        "id": "bl-eaaPOf1D0",
        "outputId": "17882734-b498-45ab-b45f-5021b54e891e"
      },
      "execution_count": 4,
      "outputs": [
        {
          "name": "stdout",
          "output_type": "stream",
          "text": [
            "Print value of (1, 2) edge weight: 4\n",
            "Print value of (2, 4) edge weight: 5\n",
            "Print value of (4, 5) edge weight: 3\n",
            "Print value of (3, 4) edge weight: 2\n",
            "Print value of (5, 7) edge weight: 6\n",
            "Print value of (6, 5) edge weight: 9\n",
            "Print value of (7, 6) edge weight: 6\n",
            "Print value of (7, 8) edge weight: 4\n"
          ]
        },
        {
          "output_type": "execute_result",
          "data": {
            "text/plain": [
              "OutEdgeDataView([(1, 2, {'weight': 4.0}), (2, 4, {'weight': 5.0}), (4, 5, {'weight': 3.0}), (3, 4, {'weight': 2.0}), (5, 7, {'weight': 6.0}), (6, 5, {'weight': 9.0}), (7, 6, {'weight': 6.0}), (7, 8, {'weight': 4.0})])"
            ]
          },
          "metadata": {},
          "execution_count": 4
        }
      ]
    },
    {
      "cell_type": "code",
      "source": [
        "# filling nodes attributes\n",
        "for i in range(len(G.nodes)):\n",
        "  node = list(G.nodes)[i]\n",
        "  value = float(input(f'Print value of {node} node weight: '))\n",
        "  attr = {node: {'weight': value}}\n",
        "  nx.set_node_attributes(G, attr)\n",
        "\n",
        "G.nodes.data()"
      ],
      "metadata": {
        "colab": {
          "base_uri": "https://localhost:8080/"
        },
        "id": "d-X8qwT6hJad",
        "outputId": "c957aecf-03e3-47c9-98b3-c80d14348457"
      },
      "execution_count": 5,
      "outputs": [
        {
          "name": "stdout",
          "output_type": "stream",
          "text": [
            "Print value of 1 node weight: 6\n",
            "Print value of 2 node weight: 10\n",
            "Print value of 4 node weight: 15\n",
            "Print value of 3 node weight: 23\n",
            "Print value of 5 node weight: 12\n",
            "Print value of 6 node weight: 5\n",
            "Print value of 7 node weight: 7\n",
            "Print value of 8 node weight: 1\n"
          ]
        },
        {
          "output_type": "execute_result",
          "data": {
            "text/plain": [
              "NodeDataView({1: {'weight': 6.0}, 2: {'weight': 10.0}, 4: {'weight': 15.0}, 3: {'weight': 23.0}, 5: {'weight': 12.0}, 6: {'weight': 5.0}, 7: {'weight': 7.0}, 8: {'weight': 1.0}})"
            ]
          },
          "metadata": {},
          "execution_count": 5
        }
      ]
    },
    {
      "cell_type": "code",
      "source": [
        "nodes = G.nodes()\n",
        "edges = G.edges()\n",
        "\n",
        "print(f\"Nodes: {nodes}\\nEdges: {edges}\")"
      ],
      "metadata": {
        "colab": {
          "base_uri": "https://localhost:8080/"
        },
        "id": "dduIrx2f84oI",
        "outputId": "422aed4a-6be8-4767-d800-fa7d3882e7bb"
      },
      "execution_count": 6,
      "outputs": [
        {
          "output_type": "stream",
          "name": "stdout",
          "text": [
            "Nodes: [1, 2, 4, 3, 5, 6, 7, 8]\n",
            "Edges: [(1, 2), (2, 4), (4, 5), (3, 4), (5, 7), (6, 5), (7, 6), (7, 8)]\n"
          ]
        }
      ]
    },
    {
      "cell_type": "code",
      "source": [
        "# graph visualization\n",
        "pos = nx.circular_layout(G)\n",
        "edge_labels = nx.get_edge_attributes(G, 'weight')\n",
        "nx.draw(G, pos, with_labels=True)\n",
        "nx.draw_networkx_edge_labels(G, pos, edge_labels=edge_labels, font_color='red')\n",
        "plt.show()"
      ],
      "metadata": {
        "colab": {
          "base_uri": "https://localhost:8080/",
          "height": 516
        },
        "id": "ZJeI6UhI_A_J",
        "outputId": "0d759196-83d3-4847-d334-0c51922c6c98"
      },
      "execution_count": 34,
      "outputs": [
        {
          "output_type": "display_data",
          "data": {
            "text/plain": [
              "<Figure size 640x480 with 1 Axes>"
            ],
            "image/png": "[encoded data removed]"
          },
          "metadata": {}
        }
      ]
    },
    {
      "cell_type": "code",
      "source": [
        "nx.get_edge_attributes(G, 'weight')"
      ],
      "metadata": {
        "colab": {
          "base_uri": "https://localhost:8080/"
        },
        "id": "zUcn02H6_oOM",
        "outputId": "5f040a21-c51f-4693-dbad-b20673b42941"
      },
      "execution_count": 22,
      "outputs": [
        {
          "output_type": "execute_result",
          "data": {
            "text/plain": [
              "{(1, 2): 4.0,\n",
              " (2, 4): 5.0,\n",
              " (4, 5): 3.0,\n",
              " (3, 4): 2.0,\n",
              " (5, 7): 6.0,\n",
              " (6, 5): 9.0,\n",
              " (7, 6): 6.0,\n",
              " (7, 8): 4.0}"
            ]
          },
          "metadata": {},
          "execution_count": 22
        }
      ]
    },
    {
      "cell_type": "code",
      "source": [
        "def visualize(G):\n",
        "  \"\"\"Visualize graph\"\"\"\n",
        "  pos = nx.circular_layout(G)\n",
        "  edge_labels = nx.get_edge_attributes(G, 'weight')\n",
        "  node_labels = nx.get_node_attributes(G, 'weight')\n",
        "\n",
        "  nx.draw(G, pos=pos, with_labels=True, node_size=1000)\n",
        "  nx.draw_networkx_edge_labels(G, pos, edge_labels=edge_labels, font_color='red')\n",
        "  nx.draw_networkx_labels(G, pos, labels=node_labels, font_size=0.1)\n",
        "\n",
        "  plt.show()"
      ],
      "metadata": {
        "id": "8CobQ8h4mZFN"
      },
      "execution_count": 7,
      "outputs": []
    },
    {
      "cell_type": "code",
      "source": [
        "def isReal(string):\n",
        "  \"\"\"Checks if string is a real number\"\"\"\n",
        "  try:\n",
        "      float(string)\n",
        "  except ValueError:\n",
        "      return False\n",
        "  return True"
      ],
      "metadata": {
        "id": "xEnYlFpz13uJ"
      },
      "execution_count": 8,
      "outputs": []
    },
    {
      "cell_type": "code",
      "source": [
        "def get_input_edges(G, node):\n",
        "  \"\"\"Returns list of node's input edges\"\"\"\n",
        "  input_edges = []\n",
        "  edges = G.edges()\n",
        "\n",
        "  for edge in edges:\n",
        "    if edge[1] == node:\n",
        "      input_edges.append(edge)\n",
        "\n",
        "  return input_edges"
      ],
      "metadata": {
        "id": "JbZSTl-WHjXN"
      },
      "execution_count": 9,
      "outputs": []
    },
    {
      "cell_type": "code",
      "source": [
        "def min_edge_attr(G, edges):\n",
        "  \"\"\"Calculates a minimum attribute value of the given edges\"\"\"\n",
        "  edges_attr = []\n",
        "\n",
        "  for edge in edges:\n",
        "    attr = G.edges[edge[0], edge[1]]['weight']\n",
        "    edges_attr.append(attr)\n",
        "\n",
        "  if len(edges_attr) > 0:\n",
        "    return min(edges_attr)\n",
        "\n",
        "  return 0"
      ],
      "metadata": {
        "id": "Y6lu0KBGLt9p"
      },
      "execution_count": 10,
      "outputs": []
    },
    {
      "cell_type": "code",
      "source": [
        "def mul(G, input_edges, left_node):\n",
        "  \"\"\"Multiply input edges attributes and left node attribute\"\"\"\n",
        "  result = 1\n",
        "\n",
        "  for edge in input_edges:\n",
        "    result *= G.edges[edge[0], edge[1]]['weight']\n",
        "\n",
        "  return result * left_node"
      ],
      "metadata": {
        "id": "bEhra-SQpGJ3"
      },
      "execution_count": 11,
      "outputs": []
    },
    {
      "cell_type": "code",
      "source": [
        "with open(file, 'r') as fp:\n",
        "  result = [] # result of the agent-function\n",
        "  fp.seek((5*NE)+9, 0)\n",
        "  content = fp.readlines()\n",
        "\n",
        "  for i in range(NV + NE):\n",
        "    s = content[i] # current line\n",
        "    j = -1 # for edges list\n",
        "    current_node = 0\n",
        "    current_edge = ()\n",
        "\n",
        "    if i < NV:\n",
        "      current_node = list(G.nodes)[i]\n",
        "    else:\n",
        "      j += 1\n",
        "      current_edge = list(G.edges)[j]\n",
        "\n",
        "    if isReal(s): # if current line is a real number\n",
        "      if i < NV:\n",
        "        attr = {current_node: {'weight': float(s)}}\n",
        "        nx.set_node_attributes(G, attr)\n",
        "        result.append(float(s))\n",
        "      else:\n",
        "        attr = {current_edge: {'weight': float(s)}}\n",
        "        nx.set_edge_attributes(G, attr)\n",
        "        result.append(float(s))\n",
        "\n",
        "    elif s[0] == 'e': # if copy attr value from particular edge\n",
        "      if i < NV:\n",
        "        edge_number = int(s[2]) # index of edge in G.edges list\n",
        "        edge = list(G.edges())[edge_number - 1]\n",
        "        value = G.edges[edge[0], edge[1]]['weight']\n",
        "        attr = {current_node: {'weight': value}}\n",
        "        nx.set_node_attributes(G, attr)\n",
        "        result.append(value)\n",
        "      else:\n",
        "        edge_number = int(s[2])\n",
        "        edge = list(G.edges())[edge_number - 1]\n",
        "        value = G.edges[edge[0], edge[1]]['weight']\n",
        "        attr = {current_edge: {'weight': value}}\n",
        "        nx.set_edge_attributes(G, attr)\n",
        "        result.append(value)\n",
        "\n",
        "    elif s[0] == 'v': # if copy attr value from particular node\n",
        "      if i < NV:\n",
        "        node_number = int(s[2]) # index of node in G.nodes list\n",
        "        node = list(G.nodes())[node_number - 1]\n",
        "        value = G.nodes[node]['weight']\n",
        "        attr = {current_node: {'weight': value}}\n",
        "        nx.set_node_attributes(G, attr)\n",
        "        result.append(value)\n",
        "      else:\n",
        "        node_number = int(s[2])\n",
        "        node = list(G.nodes())[node_number - 1]\n",
        "        value = G.nodes[node]['weight']\n",
        "        attr = {current_edge: {'weight': value}}\n",
        "        nx.set_edge_attributes(G, attr)\n",
        "        result.append(value)\n",
        "\n",
        "    elif s == 'min\\n':\n",
        "        input_edges = get_input_edges(G, i) # get input edges list of particular node\n",
        "        m = min_edge_attr(G, input_edges) # calculates minimum attr value of input edges\n",
        "        result.append(m)\n",
        "\n",
        "    elif s == '*\\n':\n",
        "      left_node = current_edge[0] # get left node of the current edge\n",
        "      input_edges = get_input_edges(G, left_node) # get input edges of the left node\n",
        "      value = mul(G, input_edges, left_node) # multiply input edges attrs and left node attr\n",
        "      G.edges[current_edge[0], current_edge[1]]['weight'] = value\n",
        "      result.append(value)"
      ],
      "metadata": {
        "id": "pY04RVoD58rN"
      },
      "execution_count": null,
      "outputs": []
    },
    {
      "cell_type": "code",
      "source": [
        "# write result values into output file\n",
        "with open(output, 'w') as fp:\n",
        "  for num in result:\n",
        "    fp.write(str(num) + '\\n')"
      ],
      "metadata": {
        "id": "LqVtFkIgfawV"
      },
      "execution_count": null,
      "outputs": []
    }
  ]
}