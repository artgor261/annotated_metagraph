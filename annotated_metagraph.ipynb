{
  "nbformat": 4,
  "nbformat_minor": 0,
  "metadata": {
    "colab": {
      "provenance": []
    },
    "kernelspec": {
      "name": "python3",
      "display_name": "Python 3"
    },
    "language_info": {
      "name": "python"
    }
  },
  "cells": [
    {
      "cell_type": "code",
      "execution_count": 64,
      "metadata": {
        "id": "fCJA_izL2VJn"
      },
      "outputs": [],
      "source": [
        "import networkx as nx\n",
        "import matplotlib.pyplot as plt"
      ]
    },
    {
      "cell_type": "code",
      "source": [
        "G = nx.DiGraph() # graph\n",
        "file = input('Print absolute or relative path to the file: ')\n",
        "output = input('Print output file: ')\n",
        "\n",
        "# nodes count\n",
        "NV = 0\n",
        "\n",
        "# edges count\n",
        "NE = 0\n",
        "\n",
        "with open(file, 'r') as fp:\n",
        "  content = fp.read()\n",
        "  NV = int(content[0])\n",
        "  NE = int(content[2])\n",
        "  fp.seek(7, 0)\n",
        "  edges = [tuple(map(int, s.split())) for s in fp.readlines(5 * (NE-2))]\n",
        "  G.add_edges_from(edges)"
      ],
      "metadata": {
        "colab": {
          "base_uri": "https://localhost:8080/"
        },
        "id": "YzF9fEQQ7O14",
        "outputId": "c75d3e6d-1d9e-4f63-ff91-ce51e1399eae"
      },
      "execution_count": 47,
      "outputs": [
        {
          "name": "stdout",
          "output_type": "stream",
          "text": [
            "Print absolute or relative path to the file: gr.txt\n",
            "Print output file: output.txt\n"
          ]
        }
      ]
    },
    {
      "cell_type": "code",
      "source": [
        "# filling edges attributes\n",
        "for i in range(len(G.edges)):\n",
        "  edge = list(G.edges)[i]\n",
        "  value = float(input(f'Print value of {edge} edge weight: '))\n",
        "  attr = {edge: {'weight': value}}\n",
        "  nx.set_edge_attributes(G, attr)\n",
        "\n",
        "G.edges.data()"
      ],
      "metadata": {
        "colab": {
          "base_uri": "https://localhost:8080/"
        },
        "id": "bl-eaaPOf1D0",
        "outputId": "d8a22f44-13cd-4dfd-8acc-9ac9b1e66acb"
      },
      "execution_count": 48,
      "outputs": [
        {
          "name": "stdout",
          "output_type": "stream",
          "text": [
            "Print value of (1, 2) edge weight: 3\n",
            "Print value of (2, 4) edge weight: 2\n",
            "Print value of (4, 5) edge weight: 5\n",
            "Print value of (3, 4) edge weight: 3\n",
            "Print value of (5, 7) edge weight: 2\n",
            "Print value of (6, 5) edge weight: 7\n",
            "Print value of (7, 6) edge weight: 1\n",
            "Print value of (7, 8) edge weight: 8\n"
          ]
        },
        {
          "output_type": "execute_result",
          "data": {
            "text/plain": [
              "OutEdgeDataView([(1, 2, {'weight': 3.0}), (2, 4, {'weight': 2.0}), (4, 5, {'weight': 5.0}), (3, 4, {'weight': 3.0}), (5, 7, {'weight': 2.0}), (6, 5, {'weight': 7.0}), (7, 6, {'weight': 1.0}), (7, 8, {'weight': 8.0})])"
            ]
          },
          "metadata": {},
          "execution_count": 48
        }
      ]
    },
    {
      "cell_type": "code",
      "source": [
        "# filling nodes attributes\n",
        "for i in range(len(G.nodes)):\n",
        "  node = list(G.nodes)[i]\n",
        "  value = float(input(f'Print value of {node} node weight: '))\n",
        "  attr = {node: {'weight': value}}\n",
        "  nx.set_node_attributes(G, attr)\n",
        "\n",
        "G.nodes.data()"
      ],
      "metadata": {
        "colab": {
          "base_uri": "https://localhost:8080/"
        },
        "id": "d-X8qwT6hJad",
        "outputId": "fded0d39-4c98-498f-a090-d6c52dfdcd22"
      },
      "execution_count": 49,
      "outputs": [
        {
          "name": "stdout",
          "output_type": "stream",
          "text": [
            "Print value of 1 node weight: 9\n",
            "Print value of 2 node weight: 3\n",
            "Print value of 4 node weight: 2\n",
            "Print value of 3 node weight: 1\n",
            "Print value of 5 node weight: 5\n",
            "Print value of 6 node weight: 6\n",
            "Print value of 7 node weight: 7\n",
            "Print value of 8 node weight: 5\n"
          ]
        },
        {
          "output_type": "execute_result",
          "data": {
            "text/plain": [
              "NodeDataView({1: {'weight': 9.0}, 2: {'weight': 3.0}, 4: {'weight': 2.0}, 3: {'weight': 1.0}, 5: {'weight': 5.0}, 6: {'weight': 6.0}, 7: {'weight': 7.0}, 8: {'weight': 5.0}})"
            ]
          },
          "metadata": {},
          "execution_count": 49
        }
      ]
    },
    {
      "cell_type": "code",
      "source": [
        "nodes = G.nodes()\n",
        "edges = G.edges()\n",
        "\n",
        "print(f\"Nodes: {nodes}\\nEdges: {edges}\")"
      ],
      "metadata": {
        "colab": {
          "base_uri": "https://localhost:8080/"
        },
        "id": "dduIrx2f84oI",
        "outputId": "aec3a300-57c6-4988-e784-0a926698278f"
      },
      "execution_count": 50,
      "outputs": [
        {
          "output_type": "stream",
          "name": "stdout",
          "text": [
            "Nodes: [1, 2, 4, 3, 5, 6, 7, 8]\n",
            "Edges: [(1, 2), (2, 4), (4, 5), (3, 4), (5, 7), (6, 5), (7, 6), (7, 8)]\n"
          ]
        }
      ]
    },
    {
      "cell_type": "code",
      "source": [
        "def visualize(G):\n",
        "  \"\"\"Visualize graph\"\"\"\n",
        "  pos = nx.circular_layout(G)\n",
        "  edge_labels = nx.get_edge_attributes(G, 'weight')\n",
        "  node_labels = nx.get_node_attributes(G, 'weight')\n",
        "\n",
        "  nx.draw(G, pos=pos, with_labels=True, node_size=1000)\n",
        "  nx.draw_networkx_edge_labels(G, pos, edge_labels=edge_labels, font_color='red')\n",
        "  nx.draw_networkx_labels(G, pos, labels=node_labels, font_size=0.1)\n",
        "\n",
        "  plt.show()"
      ],
      "metadata": {
        "id": "8CobQ8h4mZFN"
      },
      "execution_count": 80,
      "outputs": []
    },
    {
      "cell_type": "code",
      "source": [
        "def isReal(string):\n",
        "  \"\"\"Checks if string is a real number\"\"\"\n",
        "  try:\n",
        "      float(string)\n",
        "  except ValueError:\n",
        "      return False\n",
        "  return True"
      ],
      "metadata": {
        "id": "xEnYlFpz13uJ"
      },
      "execution_count": 52,
      "outputs": []
    },
    {
      "cell_type": "code",
      "source": [
        "def get_input_edges(G, node):\n",
        "  \"\"\"Returns list of node's input edges\"\"\"\n",
        "  input_edges = []\n",
        "  edges = G.edges()\n",
        "\n",
        "  for edge in edges:\n",
        "    if edge[1] == node:\n",
        "      input_edges.append(edge)\n",
        "\n",
        "  return input_edges"
      ],
      "metadata": {
        "id": "JbZSTl-WHjXN"
      },
      "execution_count": 53,
      "outputs": []
    },
    {
      "cell_type": "code",
      "source": [
        "def min_edge_attr(G, edges):\n",
        "  \"\"\"Calculates a minimum attribute value of the given edges\"\"\"\n",
        "  edges_attr = []\n",
        "\n",
        "  for edge in edges:\n",
        "    attr = G.edges[edge[0], edge[1]]['weight']\n",
        "    edges_attr.append(attr)\n",
        "\n",
        "  if len(edges_attr) > 0:\n",
        "    return min(edges_attr)\n",
        "\n",
        "  return 0"
      ],
      "metadata": {
        "id": "Y6lu0KBGLt9p"
      },
      "execution_count": 54,
      "outputs": []
    },
    {
      "cell_type": "code",
      "source": [
        "def mul(G, input_edges, left_node):\n",
        "  \"\"\"Multiply input edges attributes and left node attribute\"\"\"\n",
        "  result = 1\n",
        "\n",
        "  for edge in input_edges:\n",
        "    result *= G.edges[edge[0], edge[1]]['weight']\n",
        "\n",
        "  return result * left_node"
      ],
      "metadata": {
        "id": "bEhra-SQpGJ3"
      },
      "execution_count": 55,
      "outputs": []
    },
    {
      "cell_type": "code",
      "source": [
        "with open(file, 'r') as fp:\n",
        "  result = [] # result of the agent-function\n",
        "  fp.seek((5*NE)+9, 0)\n",
        "  content = fp.readlines()\n",
        "\n",
        "  for i in range(NV + NE):\n",
        "    s = content[i] # current line\n",
        "    j = -1 # for edges list\n",
        "    current_node = 0\n",
        "    current_edge = ()\n",
        "\n",
        "    if i < NV:\n",
        "      current_node = list(G.nodes)[i]\n",
        "    else:\n",
        "      j += 1\n",
        "      current_edge = list(G.edges)[j]\n",
        "\n",
        "    if isReal(s): # if current line is a real number\n",
        "      if i < NV:\n",
        "        attr = {current_node: {'weight': float(s)}}\n",
        "        nx.set_node_attributes(G, attr)\n",
        "        result.append(float(s))\n",
        "      else:\n",
        "        attr = {current_edge: {'weight': float(s)}}\n",
        "        nx.set_edge_attributes(G, attr)\n",
        "        result.append(float(s))\n",
        "\n",
        "    elif s[0] == 'e': # if copy attr value from particular edge\n",
        "      if i < NV:\n",
        "        edge_number = int(s[2]) # index of edge in G.edges list\n",
        "        edge = list(G.edges())[edge_number - 1]\n",
        "        value = G.edges[edge[0], edge[1]]['weight']\n",
        "        attr = {current_node: {'weight': value}}\n",
        "        nx.set_node_attributes(G, attr)\n",
        "        result.append(value)\n",
        "      else:\n",
        "        edge_number = int(s[2])\n",
        "        edge = list(G.edges())[edge_number - 1]\n",
        "        value = G.edges[edge[0], edge[1]]['weight']\n",
        "        attr = {current_edge: {'weight': value}}\n",
        "        nx.set_edge_attributes(G, attr)\n",
        "        result.append(value)\n",
        "\n",
        "    elif s[0] == 'v': # if copy attr value from particular node\n",
        "      if i < NV:\n",
        "        node_number = int(s[2]) # index of node in G.nodes list\n",
        "        node = list(G.nodes())[node_number - 1]\n",
        "        value = G.nodes[node]['weight']\n",
        "        attr = {current_node: {'weight': value}}\n",
        "        nx.set_node_attributes(G, attr)\n",
        "        result.append(value)\n",
        "      else:\n",
        "        node_number = int(s[2])\n",
        "        node = list(G.nodes())[node_number - 1]\n",
        "        value = G.nodes[node]['weight']\n",
        "        attr = {current_edge: {'weight': value}}\n",
        "        nx.set_edge_attributes(G, attr)\n",
        "        result.append(value)\n",
        "\n",
        "    elif s == 'min\\n':\n",
        "        input_edges = get_input_edges(G, i) # get input edges list of particular node\n",
        "        m = min_edge_attr(G, input_edges) # calculates minimum attr value of input edges\n",
        "        result.append(m)\n",
        "\n",
        "    elif s == '*\\n':\n",
        "      left_node = current_edge[0] # get left node of the current edge\n",
        "      input_edges = get_input_edges(G, left_node) # get input edges of the left node\n",
        "      value = mul(G, input_edges, left_node) # multiply input edges attrs and left node attr\n",
        "      G.edges[current_edge[0], current_edge[1]]['weight'] = value\n",
        "      result.append(value)"
      ],
      "metadata": {
        "id": "pY04RVoD58rN"
      },
      "execution_count": 83,
      "outputs": []
    },
    {
      "cell_type": "code",
      "source": [
        "# write result values into output file\n",
        "with open(output, 'w') as fp:\n",
        "  for num in result:\n",
        "    fp.write(str(num) + '\\n')"
      ],
      "metadata": {
        "id": "LqVtFkIgfawV"
      },
      "execution_count": 85,
      "outputs": []
    }
  ]
}